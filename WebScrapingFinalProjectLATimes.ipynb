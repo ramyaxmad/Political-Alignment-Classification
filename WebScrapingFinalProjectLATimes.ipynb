{
  "nbformat": 4,
  "nbformat_minor": 0,
  "metadata": {
    "colab": {
      "provenance": []
    },
    "kernelspec": {
      "name": "python3",
      "display_name": "Python 3"
    },
    "language_info": {
      "name": "python"
    }
  },
  "cells": [
    {
      "cell_type": "code",
      "execution_count": null,
      "metadata": {
        "colab": {
          "base_uri": "https://localhost:8080/"
        },
        "id": "T-5grvX5Dx7W",
        "outputId": "09c72927-e8d2-4e80-acc3-39a6a6c98288"
      },
      "outputs": [
        {
          "output_type": "execute_result",
          "data": {
            "text/plain": [
              "200"
            ]
          },
          "metadata": {},
          "execution_count": 7
        }
      ],
      "source": [
        "import requests\n",
        "from bs4 import BeautifulSoup\n",
        "import pandas as pd\n",
        "\n",
        "# Article URL\n",
        "url = \"https://www.latimes.com/world-nation/story/2025-06-05/trump-speaks-with-xi-amid-stalled-talks-between-the-us-and-china-over-tariffs\"\n",
        "headers = {\"User-Agent\": \"Mozilla/5.0\"}\n",
        "\n",
        "response = requests.get(url, headers=headers)\n",
        "response.status_code"
      ]
    },
    {
      "cell_type": "code",
      "source": [
        "soup = BeautifulSoup(response.text, 'html.parser')\n",
        "\n",
        "title = soup.find('h1').get_text(strip=True)\n",
        "\n",
        "for a in soup.find_all('a'):\n",
        "  a.insert_before(' ')\n",
        "  a.insert_after(' ')\n",
        "\n",
        "stop_phrase = \"Sign up for Essential California\"\n",
        "paragraphs = []\n",
        "for p in soup.find_all('p'):\n",
        "    text = p.get_text()\n",
        "    if stop_phrase in text:\n",
        "        break\n",
        "    paragraphs.append(text)\n",
        "\n",
        "content = '\\n'.join(paragraphs)\n",
        "\n",
        "df = pd.DataFrame([{\n",
        "    'url': url,\n",
        "    'title': title,\n",
        "    'content': content\n",
        "}])\n",
        "\n",
        "print(df.head())\n",
        "\n",
        "df.to_csv(\"articles.csv\", index=False)"
      ],
      "metadata": {
        "colab": {
          "base_uri": "https://localhost:8080/"
        },
        "id": "YGnnmZyyGaV3",
        "outputId": "aeb326e7-adbc-4052-8da5-a9354dab8af0"
      },
      "execution_count": null,
      "outputs": [
        {
          "output_type": "stream",
          "name": "stdout",
          "text": [
            "                                                 url  \\\n",
            "0  https://www.latimes.com/world-nation/story/202...   \n",
            "\n",
            "                                               title  \\\n",
            "0  Trump speaks with Xi amid stalled talks betwee...   \n",
            "\n",
            "                                             content  \n",
            "0  WASHINGTON — President Trump and Chinese leade...  \n"
          ]
        }
      ]
    },
    {
      "cell_type": "code",
      "source": [],
      "metadata": {
        "id": "31lpcz-jJR_r"
      },
      "execution_count": null,
      "outputs": []
    }
  ]
}