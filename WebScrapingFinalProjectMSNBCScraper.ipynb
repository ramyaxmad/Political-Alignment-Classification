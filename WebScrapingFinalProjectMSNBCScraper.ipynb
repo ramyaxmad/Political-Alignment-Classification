{
  "nbformat": 4,
  "nbformat_minor": 0,
  "metadata": {
    "colab": {
      "provenance": []
    },
    "kernelspec": {
      "name": "python3",
      "display_name": "Python 3"
    },
    "language_info": {
      "name": "python"
    }
  },
  "cells": [
    {
      "cell_type": "code",
      "execution_count": null,
      "metadata": {
        "colab": {
          "base_uri": "https://localhost:8080/"
        },
        "id": "T-5grvX5Dx7W",
        "outputId": "f7908be6-ffc6-4475-ee49-54247b06018e"
      },
      "outputs": [
        {
          "output_type": "execute_result",
          "data": {
            "text/plain": [
              "200"
            ]
          },
          "metadata": {},
          "execution_count": 9
        }
      ],
      "source": [
        "import requests\n",
        "from bs4 import BeautifulSoup\n",
        "import pandas as pd\n",
        "\n",
        "# Article URL\n",
        "url = \"https://www.msnbc.com/top-stories/latest/jd-vance-brain-drain-trump-science-rcna210036\"\n",
        "headers = {\"User-Agent\": \"Mozilla/5.0\"}\n",
        "\n",
        "response = requests.get(url, headers=headers)\n",
        "response.status_code"
      ]
    },
    {
      "cell_type": "code",
      "source": [
        "soup = BeautifulSoup(response.content, 'html.parser')\n",
        "\n",
        "title = soup.find('h1').get_text(strip=True)\n",
        "\n",
        "start_phrase = \"More Shows\"\n",
        "stop_phrase = \"©\"\n",
        "paragraphs = []\n",
        "\n",
        "for p in soup.find_all('p'):\n",
        "    text = p.get_text()\n",
        "    if start_phrase in text:\n",
        "        p.extract();\n",
        "        break;\n",
        "    else:\n",
        "        p.extract();\n",
        "\n",
        "for p in soup.find_all('p'):\n",
        "    text = p.get_text()\n",
        "    if stop_phrase in text:\n",
        "        break\n",
        "    paragraphs.append(text)\n",
        "\n",
        "for a in soup.find_all('a', href=True):\n",
        "    soup.a.insert_before(' ')\n",
        "    soup.a.insert_after(' ')\n",
        "\n",
        "content = '\\n'.join(paragraphs)\n",
        "\n",
        "df = pd.DataFrame([{\n",
        "    'url': url,\n",
        "    'title': title,\n",
        "    'content': content\n",
        "}])\n",
        "\n",
        "print(df.head())\n",
        "\n",
        "df.to_csv(\"articles.csv\", index=False)"
      ],
      "metadata": {
        "colab": {
          "base_uri": "https://localhost:8080/"
        },
        "id": "YGnnmZyyGaV3",
        "outputId": "ffd6d682-be1f-450d-8757-6c65e11f7d1e"
      },
      "execution_count": null,
      "outputs": [
        {
          "output_type": "stream",
          "name": "stdout",
          "text": [
            "                                                 url  \\\n",
            "0  https://www.msnbc.com/top-stories/latest/jd-va...   \n",
            "\n",
            "                                               title  \\\n",
            "0  JD Vance botches defense of the MAGA 'brain dr...   \n",
            "\n",
            "                                             content  \n",
            "0  By Ja'han Jones\\nVice President JD Vance showe...  \n"
          ]
        }
      ]
    }
  ]
}