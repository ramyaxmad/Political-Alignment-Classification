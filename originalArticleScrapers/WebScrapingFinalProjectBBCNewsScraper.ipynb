{
  "nbformat": 4,
  "nbformat_minor": 0,
  "metadata": {
    "colab": {
      "provenance": []
    },
    "kernelspec": {
      "name": "python3",
      "display_name": "Python 3"
    },
    "language_info": {
      "name": "python"
    }
  },
  "cells": [
    {
      "cell_type": "code",
      "execution_count": null,
      "metadata": {
        "colab": {
          "base_uri": "https://localhost:8080/"
        },
        "id": "T-5grvX5Dx7W",
        "outputId": "80c16913-eb3f-4828-f7c7-c36f9862cf6a"
      },
      "outputs": [
        {
          "output_type": "execute_result",
          "data": {
            "text/plain": [
              "200"
            ]
          },
          "metadata": {},
          "execution_count": 24
        }
      ],
      "source": [
        "import requests\n",
        "from bs4 import BeautifulSoup\n",
        "import pandas as pd\n",
        "\n",
        "# Article URL\n",
        "url = \"https://www.bbc.com/news/articles/ce82g704rd2o\"\n",
        "headers = {\"User-Agent\": \"Mozilla/5.0\"}\n",
        "\n",
        "response = requests.get(url, headers=headers)\n",
        "response.status_code"
      ]
    },
    {
      "cell_type": "code",
      "source": [
        "soup = BeautifulSoup(response.content, 'html.parser')\n",
        "\n",
        "title = soup.find('h1').get_text(strip=True)\n",
        "\n",
        "stop_phrase = \"Copyright 2025 BBC.\"\n",
        "paragraphs = []\n",
        "for p in soup.find_all('p'):\n",
        "    text = p.get_text()\n",
        "    if stop_phrase in text:\n",
        "        break\n",
        "    paragraphs.append(text)\n",
        "\n",
        "for a in soup.find_all('a', href=True):\n",
        "    soup.a.insert_before(' ')\n",
        "    soup.a.insert_after(' ')\n",
        "\n",
        "content = '\\n'.join(paragraphs)\n",
        "\n",
        "df = pd.DataFrame([{\n",
        "    'url': url,\n",
        "    'title': title,\n",
        "    'content': content\n",
        "}])\n",
        "\n",
        "print(df.head())\n",
        "\n",
        "df.to_csv(\"articles.csv\", index=False)"
      ],
      "metadata": {
        "colab": {
          "base_uri": "https://localhost:8080/"
        },
        "id": "YGnnmZyyGaV3",
        "outputId": "c6f6c23a-5d98-48f1-dd23-49ff8dfd8b84"
      },
      "execution_count": null,
      "outputs": [
        {
          "output_type": "stream",
          "name": "stdout",
          "text": [
            "                                              url  \\\n",
            "0  https://www.bbc.com/news/articles/ce82g704rd2o   \n",
            "\n",
            "                                    title  \\\n",
            "0  US sends nuclear deal proposal to Iran   \n",
            "\n",
            "                                             content  \n",
            "0  The US has sent Iran a proposal for a nuclear ...  \n"
          ]
        }
      ]
    }
  ]
}