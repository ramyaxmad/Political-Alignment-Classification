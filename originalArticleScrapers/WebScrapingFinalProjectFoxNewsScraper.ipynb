{
  "nbformat": 4,
  "nbformat_minor": 0,
  "metadata": {
    "colab": {
      "provenance": []
    },
    "kernelspec": {
      "name": "python3",
      "display_name": "Python 3"
    },
    "language_info": {
      "name": "python"
    }
  },
  "cells": [
    {
      "cell_type": "code",
      "execution_count": null,
      "metadata": {
        "colab": {
          "base_uri": "https://localhost:8080/"
        },
        "id": "T-5grvX5Dx7W",
        "outputId": "623eb884-c995-433c-9b48-cbd438b2b67d"
      },
      "outputs": [
        {
          "output_type": "execute_result",
          "data": {
            "text/plain": [
              "200"
            ]
          },
          "metadata": {},
          "execution_count": 36
        }
      ],
      "source": [
        "import requests\n",
        "from bs4 import BeautifulSoup\n",
        "import pandas as pd\n",
        "\n",
        "# Article URL\n",
        "url = \"https://www.foxnews.com/politics/state-dept-says-doges-changes-permanent-amid-musks-departure\"\n",
        "headers = {\"User-Agent\": \"Mozilla/5.0\"}\n",
        "\n",
        "response = requests.get(url, headers=headers)\n",
        "response.status_code"
      ]
    },
    {
      "cell_type": "code",
      "source": [
        "soup = BeautifulSoup(response.content, 'html.parser')\n",
        "\n",
        "title = soup.find('h1').get_text(strip=True)\n",
        "\n",
        "\n",
        "paragraphs = []\n",
        "\n",
        "child_soup = soup.find_all('strong')\n",
        "for i in child_soup:\n",
        "    i.extract()\n",
        "\n",
        "for p in soup.find_all('p'):\n",
        "    text = p.get_text()\n",
        "    paragraphs.append(text)\n",
        "\n",
        "for a in soup.find_all('a', href=True):\n",
        "    soup.a.insert_before(' ')\n",
        "    soup.a.insert_after(' ')\n",
        "\n",
        "\n",
        "content = '\\n'.join(paragraphs)\n",
        "\n",
        "df = pd.DataFrame([{\n",
        "    'url': url,\n",
        "    'title': title,\n",
        "    'content': content\n",
        "}])\n",
        "\n",
        "print(df.head())\n",
        "\n",
        "df.to_csv(\"articles.csv\", index=False)"
      ],
      "metadata": {
        "colab": {
          "base_uri": "https://localhost:8080/"
        },
        "id": "YGnnmZyyGaV3",
        "outputId": "b25fdd90-73f4-425c-abd6-b8a571a7fb9d"
      },
      "execution_count": null,
      "outputs": [
        {
          "output_type": "stream",
          "name": "stdout",
          "text": [
            "                                                 url  \\\n",
            "0  https://www.foxnews.com/politics/state-dept-sa...   \n",
            "\n",
            "                                               title  \\\n",
            "0  State Dept says DOGE's changes will be permane...   \n",
            "\n",
            "                                             content  \n",
            "0  \\n        This material may not be published, ...  \n"
          ]
        }
      ]
    }
  ]
}