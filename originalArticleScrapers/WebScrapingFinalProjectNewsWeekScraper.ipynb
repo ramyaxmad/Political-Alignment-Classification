{
  "nbformat": 4,
  "nbformat_minor": 0,
  "metadata": {
    "colab": {
      "provenance": []
    },
    "kernelspec": {
      "name": "python3",
      "display_name": "Python 3"
    },
    "language_info": {
      "name": "python"
    }
  },
  "cells": [
    {
      "cell_type": "code",
      "execution_count": null,
      "metadata": {
        "id": "T-5grvX5Dx7W",
        "colab": {
          "base_uri": "https://localhost:8080/"
        },
        "outputId": "b2e3fd7f-b800-4176-ae87-10e759b90a03"
      },
      "outputs": [
        {
          "output_type": "execute_result",
          "data": {
            "text/plain": [
              "200"
            ]
          },
          "metadata": {},
          "execution_count": 7
        }
      ],
      "source": [
        "import requests\n",
        "from bs4 import BeautifulSoup\n",
        "import pandas as pd\n",
        "\n",
        "# Article URL\n",
        "url = \"https://www.newsweek.com/pete-hegseth-shangri-la-dialogue-us-china-strategic-competition-war-peace-2079266\"\n",
        "headers = {\"User-Agent\": \"Mozilla/5.0\"}\n",
        "\n",
        "response = requests.get(url, headers=headers)\n",
        "response.status_code"
      ]
    },
    {
      "cell_type": "code",
      "source": [
        "soup = BeautifulSoup(response.content, 'html.parser')\n",
        "\n",
        "title = soup.find('h1').get_text(strip=True)\n",
        "\n",
        "start_phrase = \"Inconsistencies may occur.\"\n",
        "stop_phrase = \"Newsweek is committed to journalism that is factual and fair\"\n",
        "delete_phrase = \"Get 40% Off New DailyWire+ Annual Memberships\"\n",
        "paragraphs = []\n",
        "\n",
        "for p in soup.find_all('p'):\n",
        "    text = p.get_text()\n",
        "    if start_phrase in text:\n",
        "        p.extract();\n",
        "        break;\n",
        "    else:\n",
        "        p.extract();\n",
        "\n",
        "for p in soup.find_all('p'):\n",
        "    text = p.get_text()\n",
        "    if delete_phrase in text:\n",
        "        p.extract();\n",
        "    if stop_phrase in text:\n",
        "        break\n",
        "    paragraphs.append(text)\n",
        "\n",
        "for a in soup.find_all('a', href=True):\n",
        "    soup.a.insert_before(' ')\n",
        "    soup.a.insert_after(' ')\n",
        "\n",
        "content = '\\n'.join(paragraphs)\n",
        "\n",
        "df = pd.DataFrame([{\n",
        "    'url': url,\n",
        "    'title': title,\n",
        "    'content': content\n",
        "}])\n",
        "\n",
        "print(df.head())\n",
        "\n",
        "df.to_csv(\"articles.csv\", index=False)"
      ],
      "metadata": {
        "colab": {
          "base_uri": "https://localhost:8080/"
        },
        "id": "YGnnmZyyGaV3",
        "outputId": "d792f101-e07a-4cea-8884-56352b80ab2c"
      },
      "execution_count": null,
      "outputs": [
        {
          "output_type": "stream",
          "name": "stdout",
          "text": [
            "                                                 url  \\\n",
            "0  https://www.newsweek.com/pete-hegseth-shangri-...   \n",
            "\n",
            "                                   title  \\\n",
            "0  Hegseth Throws Down Gauntlet to China   \n",
            "\n",
            "                                             content  \n",
            "0  U.S. Defense Secretary Pete Hegseth on Saturda...  \n"
          ]
        }
      ]
    }
  ]
}