{
  "nbformat": 4,
  "nbformat_minor": 0,
  "metadata": {
    "colab": {
      "provenance": []
    },
    "kernelspec": {
      "name": "python3",
      "display_name": "Python 3"
    },
    "language_info": {
      "name": "python"
    }
  },
  "cells": [
    {
      "cell_type": "code",
      "execution_count": null,
      "metadata": {
        "id": "T-5grvX5Dx7W",
        "colab": {
          "base_uri": "https://localhost:8080/"
        },
        "outputId": "f0c5d2ca-6bfa-4657-aa7a-5d22b2e83e85"
      },
      "outputs": [
        {
          "output_type": "execute_result",
          "data": {
            "text/plain": [
              "200"
            ]
          },
          "metadata": {},
          "execution_count": 10
        }
      ],
      "source": [
        "import requests\n",
        "from bs4 import BeautifulSoup\n",
        "import pandas as pd\n",
        "\n",
        "# Article URL\n",
        "url = \"https://www.dailywire.com/news/support-for-gay-marriage-plummets-among-republicans-gallup-poll?author=Hank+Berrien&category=undefined&elementPosition=9&row=3&rowHeadline=Latest+News&rowType=Vertical+Carousel&title=Support+For+Gay+Marriage+Plummets+Among+Republicans%3A+Gallup+Poll\"\n",
        "headers = {\"User-Agent\": \"Mozilla/5.0\"}\n",
        "\n",
        "response = requests.get(url, headers=headers)\n",
        "response.status_code"
      ]
    },
    {
      "cell_type": "code",
      "source": [
        "soup = BeautifulSoup(response.content, 'html.parser')\n",
        "\n",
        "title = soup.find('h1').get_text(strip=True)\n",
        "\n",
        "stop_phrase = \"Already have an account?\"\n",
        "delete_phrase = \"Get 40% Off New DailyWire+ Annual Memberships\"\n",
        "paragraphs = []\n",
        "\n",
        "for p in soup.find_all('p'):\n",
        "    text = p.get_text()\n",
        "    if delete_phrase in text:\n",
        "        p.extract();\n",
        "    if stop_phrase in text:\n",
        "        break\n",
        "    paragraphs.append(text)\n",
        "\n",
        "for a in soup.find_all('a', href=True):\n",
        "    soup.a.insert_before(' ')\n",
        "    soup.a.insert_after(' ')\n",
        "\n",
        "content = '\\n'.join(paragraphs)\n",
        "\n",
        "df = pd.DataFrame([{\n",
        "    'url': url,\n",
        "    'title': title,\n",
        "    'content': content\n",
        "}])\n",
        "\n",
        "print(df.head())\n",
        "\n",
        "df.to_csv(\"articles.csv\", index=False)"
      ],
      "metadata": {
        "colab": {
          "base_uri": "https://localhost:8080/"
        },
        "id": "YGnnmZyyGaV3",
        "outputId": "059bafd5-9db4-4e24-9b7c-28b6bef5f0df"
      },
      "execution_count": null,
      "outputs": [
        {
          "output_type": "stream",
          "name": "stdout",
          "text": [
            "                                                 url  \\\n",
            "0  https://www.dailywire.com/news/support-for-gay...   \n",
            "\n",
            "                                               title  \\\n",
            "0  Support For Gay Marriage Plummets Among Republ...   \n",
            "\n",
            "                                             content  \n",
            "0  The 47-point gap between the two parties is th...  \n"
          ]
        }
      ]
    }
  ]
}