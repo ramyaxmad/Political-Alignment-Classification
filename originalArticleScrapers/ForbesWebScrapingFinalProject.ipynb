{
  "nbformat": 4,
  "nbformat_minor": 0,
  "metadata": {
    "colab": {
      "provenance": []
    },
    "kernelspec": {
      "name": "python3",
      "display_name": "Python 3"
    },
    "language_info": {
      "name": "python"
    }
  },
  "cells": [
    {
      "cell_type": "code",
      "execution_count": null,
      "metadata": {
        "colab": {
          "base_uri": "https://localhost:8080/"
        },
        "id": "T-5grvX5Dx7W",
        "outputId": "35ef567c-7e07-40a3-91e8-3101989203e2"
      },
      "outputs": [
        {
          "output_type": "execute_result",
          "data": {
            "text/plain": [
              "200"
            ]
          },
          "metadata": {},
          "execution_count": 5
        }
      ],
      "source": [
        "import requests\n",
        "from bs4 import BeautifulSoup\n",
        "import pandas as pd\n",
        "\n",
        "# Article URL\n",
        "url = \"https://www.forbes.com/sites/alisondurkee/2025/05/30/supreme-court-lets-trump-administration-revoke-500000-immigrants-temporary-protected-status/\"\n",
        "headers = {\"User-Agent\": \"Mozilla/5.0\"}\n",
        "\n",
        "response = requests.get(url, headers=headers)\n",
        "response.status_code"
      ]
    },
    {
      "cell_type": "code",
      "source": [
        "soup = BeautifulSoup(response.content, 'html.parser')\n",
        "\n",
        "title = soup.find('h1').get_text(strip=True)\n",
        "\n",
        "stop_phrase = \"Sign up for Essential California\"\n",
        "paragraphs = []\n",
        "for p in soup.find_all('p'):\n",
        "    text = p.get_text(strip=True)\n",
        "    if stop_phrase in text:\n",
        "        break\n",
        "    paragraphs.append(text)\n",
        "\n",
        "content = '\\n'.join(paragraphs)\n",
        "\n",
        "df = pd.DataFrame([{\n",
        "    'url': url,\n",
        "    'title': title,\n",
        "    'content': content\n",
        "}])\n",
        "\n",
        "print(df.head())\n",
        "\n",
        "df.to_csv(\"articles.csv\", index=False)"
      ],
      "metadata": {
        "colab": {
          "base_uri": "https://localhost:8080/"
        },
        "id": "YGnnmZyyGaV3",
        "outputId": "e992f4e1-c443-4ebd-a4d0-21eb9b1ad077"
      },
      "execution_count": null,
      "outputs": [
        {
          "output_type": "stream",
          "name": "stdout",
          "text": [
            "                                                 url  \\\n",
            "0  https://www.forbes.com/sites/alisondurkee/2025...   \n",
            "\n",
            "                                               title  \\\n",
            "0  Supreme Court Lets Trump Administration Revoke...   \n",
            "\n",
            "                                             content  \n",
            "0  ByAlison Durkee\\n\\nByAlison Durkee,\\nForbes St...  \n"
          ]
        }
      ]
    }
  ]
}