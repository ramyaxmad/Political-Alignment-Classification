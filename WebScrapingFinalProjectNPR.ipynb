{
  "nbformat": 4,
  "nbformat_minor": 0,
  "metadata": {
    "colab": {
      "provenance": []
    },
    "kernelspec": {
      "name": "python3",
      "display_name": "Python 3"
    },
    "language_info": {
      "name": "python"
    }
  },
  "cells": [
    {
      "cell_type": "code",
      "execution_count": null,
      "metadata": {
        "colab": {
          "base_uri": "https://localhost:8080/"
        },
        "id": "T-5grvX5Dx7W",
        "outputId": "7f7512b4-0d85-43e1-a3bc-65ca5e2d895d"
      },
      "outputs": [
        {
          "output_type": "execute_result",
          "data": {
            "text/plain": [
              "200"
            ]
          },
          "metadata": {},
          "execution_count": 6
        }
      ],
      "source": [
        "import requests\n",
        "from bs4 import BeautifulSoup\n",
        "import pandas as pd\n",
        "\n",
        "# Article URL\n",
        "url = \"https://www.npr.org/2025/05/26/nx-s1-5412564/fbi-pipe-bomb-white-house-dobbs-bongino\"\n",
        "headers = {\"User-Agent\": \"Mozilla/5.0\"}\n",
        "\n",
        "response = requests.get(url, headers=headers)\n",
        "response.status_code"
      ]
    },
    {
      "cell_type": "code",
      "source": [
        "soup = BeautifulSoup(response.text, 'html.parser')\n",
        "\n",
        "title = soup.find('h1').get_text(strip=True)\n",
        "\n",
        "\n",
        "for a in soup.find_all('a'):\n",
        "  a.insert_before(' ')\n",
        "  a.insert_after(' ')\n",
        "\n",
        "stop_phrase = \"Sponsor Message\"\n",
        "start_phrase = \"hide caption\"\n",
        "\n",
        "for p in soup.find_all('p'):\n",
        "    text = p.get_text()\n",
        "    if start_phrase in text:\n",
        "        p.extract();\n",
        "        break;\n",
        "    else:\n",
        "        p.extract();\n",
        "\n",
        "paragraphs = []\n",
        "for p in soup.find_all('p'):\n",
        "    text = p.get_text()\n",
        "    if stop_phrase in text:\n",
        "        break\n",
        "    paragraphs.append(text)\n",
        "\n",
        "content = '\\n'.join(paragraphs)\n",
        "\n",
        "df = pd.DataFrame([{\n",
        "    'url': url,\n",
        "    'title': title,\n",
        "    'content': content\n",
        "}])\n",
        "\n",
        "print(df.head())\n",
        "\n",
        "df.to_csv(\"articles.csv\", index=False)"
      ],
      "metadata": {
        "colab": {
          "base_uri": "https://localhost:8080/"
        },
        "id": "YGnnmZyyGaV3",
        "outputId": "a8a84016-329d-4b5d-a88b-f7da4173f048"
      },
      "execution_count": null,
      "outputs": [
        {
          "output_type": "stream",
          "name": "stdout",
          "text": [
            "                                                 url  \\\n",
            "0  https://www.npr.org/2025/05/26/nx-s1-5412564/f...   \n",
            "\n",
            "                                               title  \\\n",
            "0  FBI reexamining Dobbs opinion leak, D.C. pipe ...   \n",
            "\n",
            "                                             content  \n",
            "0  The FBI is refocusing on three, high-profile c...  \n"
          ]
        }
      ]
    },
    {
      "cell_type": "code",
      "source": [],
      "metadata": {
        "id": "31lpcz-jJR_r"
      },
      "execution_count": null,
      "outputs": []
    }
  ]
}