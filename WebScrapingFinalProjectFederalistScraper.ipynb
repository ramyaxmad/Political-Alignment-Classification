{
  "nbformat": 4,
  "nbformat_minor": 0,
  "metadata": {
    "colab": {
      "provenance": []
    },
    "kernelspec": {
      "name": "python3",
      "display_name": "Python 3"
    },
    "language_info": {
      "name": "python"
    }
  },
  "cells": [
    {
      "cell_type": "code",
      "execution_count": null,
      "metadata": {
        "id": "T-5grvX5Dx7W",
        "colab": {
          "base_uri": "https://localhost:8080/"
        },
        "outputId": "9ce33a85-d544-45e2-ed3d-1170cc92c47f"
      },
      "outputs": [
        {
          "output_type": "execute_result",
          "data": {
            "text/plain": [
              "200"
            ]
          },
          "metadata": {},
          "execution_count": 4
        }
      ],
      "source": [
        "import requests\n",
        "from bs4 import BeautifulSoup\n",
        "import pandas as pd\n",
        "\n",
        "# Article URL\n",
        "url = \"https://thefederalist.com/2025/05/29/declassified-doc-fbi-doj-declined-to-charge-russia-collusion-hoaxer-who-allegedly-lied-to-congress/\"\n",
        "headers = {\"User-Agent\": \"Mozilla/5.0\"}\n",
        "\n",
        "response = requests.get(url, headers=headers)\n",
        "response.status_code"
      ]
    },
    {
      "cell_type": "code",
      "source": [
        "soup = BeautifulSoup(response.content, 'html.parser')\n",
        "\n",
        "title = soup.find('h1').get_text(strip=True)\n",
        "\n",
        "stop_phrase = \"©\"\n",
        "paragraphs = []\n",
        "\n",
        "for p in soup.find_all('p'):\n",
        "    text = p.get_text()\n",
        "    if stop_phrase in text:\n",
        "        break\n",
        "    paragraphs.append(text)\n",
        "\n",
        "for a in soup.find_all('a', href=True):\n",
        "    soup.a.insert_before(' ')\n",
        "    soup.a.insert_after(' ')\n",
        "\n",
        "content = '\\n'.join(paragraphs)\n",
        "\n",
        "df = pd.DataFrame([{\n",
        "    'url': url,\n",
        "    'title': title,\n",
        "    'content': content\n",
        "}])\n",
        "\n",
        "print(df.head())\n",
        "\n",
        "df.to_csv(\"articles.csv\", index=False)"
      ],
      "metadata": {
        "colab": {
          "base_uri": "https://localhost:8080/"
        },
        "id": "YGnnmZyyGaV3",
        "outputId": "3d35300c-cf47-40f7-ea02-2b2215afe903"
      },
      "execution_count": null,
      "outputs": [
        {
          "output_type": "stream",
          "name": "stdout",
          "text": [
            "                                                 url  \\\n",
            "0  https://thefederalist.com/2025/05/29/declassif...   \n",
            "\n",
            "                                               title  \\\n",
            "0  Declassified Doc: FBI, DOJ Declined To Charge ...   \n",
            "\n",
            "                                             content  \n",
            "0  ‘The FBI and DOJ’s failure to hold Ohr account...  \n"
          ]
        }
      ]
    }
  ]
}